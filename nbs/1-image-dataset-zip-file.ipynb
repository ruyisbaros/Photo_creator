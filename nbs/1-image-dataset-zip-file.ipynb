{
 "cells": [
  {
   "cell_type": "code",
   "execution_count": 8,
   "metadata": {},
   "outputs": [],
   "source": [
    "import mimetypes\n",
    "import pathlib\n",
    "import shutil\n",
    "import tempfile\n"
   ]
  },
  {
   "cell_type": "code",
   "execution_count": 6,
   "metadata": {},
   "outputs": [],
   "source": [
    "NBS_DIR = pathlib.Path().resolve()\n",
    "REPO_DIR = NBS_DIR.parent\n",
    "DATA_DIR = REPO_DIR / \"data\"\n",
    "INPUTS_DIR = DATA_DIR / \"inputs\"\n",
    "OUTPUTS_DIR = DATA_DIR / \"outputs\""
   ]
  },
  {
   "cell_type": "code",
   "execution_count": 9,
   "metadata": {},
   "outputs": [],
   "source": [
    "image_file_paths = []\n",
    "\n",
    "for file_path in INPUTS_DIR.glob(\"*\"):\n",
    "    guessed_type, encoding = mimetypes.guess_type(file_path)\n",
    "    if \"image\" not in guessed_type:\n",
    "        continue\n",
    "    image_file_paths.append(file_path)"
   ]
  },
  {
   "cell_type": "code",
   "execution_count": 12,
   "metadata": {},
   "outputs": [
    {
     "data": {
      "text/plain": [
       "[PosixPath('/home/ahmet/my_projects/Photo_creator/data/inputs/9.png'),\n",
       " PosixPath('/home/ahmet/my_projects/Photo_creator/data/inputs/4.jpeg'),\n",
       " PosixPath('/home/ahmet/my_projects/Photo_creator/data/inputs/3.jpg'),\n",
       " PosixPath('/home/ahmet/my_projects/Photo_creator/data/inputs/12.png'),\n",
       " PosixPath('/home/ahmet/my_projects/Photo_creator/data/inputs/13.png'),\n",
       " PosixPath('/home/ahmet/my_projects/Photo_creator/data/inputs/6.jpeg'),\n",
       " PosixPath('/home/ahmet/my_projects/Photo_creator/data/inputs/1.jpeg'),\n",
       " PosixPath('/home/ahmet/my_projects/Photo_creator/data/inputs/11.png'),\n",
       " PosixPath('/home/ahmet/my_projects/Photo_creator/data/inputs/2.jpeg'),\n",
       " PosixPath('/home/ahmet/my_projects/Photo_creator/data/inputs/14.png'),\n",
       " PosixPath('/home/ahmet/my_projects/Photo_creator/data/inputs/7.jpeg'),\n",
       " PosixPath('/home/ahmet/my_projects/Photo_creator/data/inputs/10.png'),\n",
       " PosixPath('/home/ahmet/my_projects/Photo_creator/data/inputs/8.png'),\n",
       " PosixPath('/home/ahmet/my_projects/Photo_creator/data/inputs/5.jpeg')]"
      ]
     },
     "execution_count": 12,
     "metadata": {},
     "output_type": "execute_result"
    }
   ],
   "source": [
    "image_file_paths"
   ]
  },
  {
   "cell_type": "code",
   "execution_count": 13,
   "metadata": {},
   "outputs": [],
   "source": [
    "OUTPUTS_DIR.mkdir(exist_ok=True, parents=True)"
   ]
  },
  {
   "cell_type": "code",
   "execution_count": 14,
   "metadata": {},
   "outputs": [
    {
     "data": {
      "text/plain": [
       "False"
      ]
     },
     "execution_count": 14,
     "metadata": {},
     "output_type": "execute_result"
    }
   ],
   "source": [
    "zip_outpath = OUTPUTS_DIR / \"images.zip\"\n",
    "zip_outpath.exists()"
   ]
  },
  {
   "cell_type": "code",
   "execution_count": 15,
   "metadata": {},
   "outputs": [],
   "source": [
    "with tempfile.TemporaryDirectory() as temp_dir:\n",
    "   \n",
    "    for path in image_file_paths:\n",
    "        shutil.copy(path, temp_dir)\n",
    "    shutil.make_archive(zip_outpath.with_suffix(''), 'zip', temp_dir)\n",
    "    "
   ]
  },
  {
   "cell_type": "code",
   "execution_count": null,
   "metadata": {},
   "outputs": [],
   "source": []
  }
 ],
 "metadata": {
  "kernelspec": {
   "display_name": "finetune-last",
   "language": "python",
   "name": "python3"
  },
  "language_info": {
   "codemirror_mode": {
    "name": "ipython",
    "version": 3
   },
   "file_extension": ".py",
   "mimetype": "text/x-python",
   "name": "python",
   "nbconvert_exporter": "python",
   "pygments_lexer": "ipython3",
   "version": "3.12.0"
  }
 },
 "nbformat": 4,
 "nbformat_minor": 2
}
